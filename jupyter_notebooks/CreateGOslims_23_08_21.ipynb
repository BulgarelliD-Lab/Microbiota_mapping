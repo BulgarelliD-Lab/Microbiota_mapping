{
 "cells": [
  {
   "cell_type": "markdown",
   "metadata": {},
   "source": [
    "## Create GO slims for BaRTv2.18 annotation"
   ]
  },
  {
   "cell_type": "code",
   "execution_count": 26,
   "metadata": {},
   "outputs": [],
   "source": [
    "!source activate owltools"
   ]
  },
  {
   "cell_type": "code",
   "execution_count": 29,
   "metadata": {},
   "outputs": [],
   "source": [
    "import os\n",
    "os.chdir(\"/cluster/db/mecoulter/CEMartinez_RNAseq-209915706/results/GO/\")"
   ]
  },
  {
   "cell_type": "markdown",
   "metadata": {},
   "source": [
    "* Input files:"
   ]
  },
  {
   "cell_type": "code",
   "execution_count": 30,
   "metadata": {},
   "outputs": [],
   "source": [
    "gene_annotation = \"/cluster/db/mecoulter/BaRT2v18/BaRT_2_18_annotation_genes.txt\"\n",
    "GO_annotation = \"BaRTv2.18_genes_go_ids.txt\""
   ]
  },
  {
   "cell_type": "markdown",
   "metadata": {},
   "source": [
    "* First create list of genes with GO terms:"
   ]
  },
  {
   "cell_type": "code",
   "execution_count": 5,
   "metadata": {},
   "outputs": [
    {
     "data": {
      "text/html": [
       "<div>\n",
       "<style scoped>\n",
       "    .dataframe tbody tr th:only-of-type {\n",
       "        vertical-align: middle;\n",
       "    }\n",
       "\n",
       "    .dataframe tbody tr th {\n",
       "        vertical-align: top;\n",
       "    }\n",
       "\n",
       "    .dataframe thead th {\n",
       "        text-align: right;\n",
       "    }\n",
       "</style>\n",
       "<table border=\"1\" class=\"dataframe\">\n",
       "  <thead>\n",
       "    <tr style=\"text-align: right;\">\n",
       "      <th></th>\n",
       "      <th>Chromosome</th>\n",
       "      <th>Start</th>\n",
       "      <th>End</th>\n",
       "      <th>Strand</th>\n",
       "      <th>Sources</th>\n",
       "      <th>End support</th>\n",
       "      <th>Pannzer annotation</th>\n",
       "      <th>GO IDs</th>\n",
       "      <th>GO terms</th>\n",
       "      <th>Coding potentiality</th>\n",
       "    </tr>\n",
       "    <tr>\n",
       "      <th>BaRTv2 gene</th>\n",
       "      <th></th>\n",
       "      <th></th>\n",
       "      <th></th>\n",
       "      <th></th>\n",
       "      <th></th>\n",
       "      <th></th>\n",
       "      <th></th>\n",
       "      <th></th>\n",
       "      <th></th>\n",
       "      <th></th>\n",
       "    </tr>\n",
       "  </thead>\n",
       "  <tbody>\n",
       "    <tr>\n",
       "      <th>BaRT2v18chr1HG000020</th>\n",
       "      <td>chr1H</td>\n",
       "      <td>72060</td>\n",
       "      <td>73355</td>\n",
       "      <td>+</td>\n",
       "      <td>Illumina;HC Iso-Seq</td>\n",
       "      <td>Illumina;Enriched TSS and TES</td>\n",
       "      <td>50S ribosomal protein L28, chloroplastic</td>\n",
       "      <td>GO:0097159;GO:0005783;GO:0003723;GO:0012505;GO...</td>\n",
       "      <td>binding;organelle envelope;intracellular membr...</td>\n",
       "      <td>Unproductive;Coding</td>\n",
       "    </tr>\n",
       "    <tr>\n",
       "      <th>BaRT2v18chr1HG000030</th>\n",
       "      <td>chr1H</td>\n",
       "      <td>72100</td>\n",
       "      <td>73281</td>\n",
       "      <td>-</td>\n",
       "      <td>Illumina</td>\n",
       "      <td>Illumina</td>\n",
       "      <td>NaN</td>\n",
       "      <td>NaN</td>\n",
       "      <td>NaN</td>\n",
       "      <td>Non_Coding</td>\n",
       "    </tr>\n",
       "    <tr>\n",
       "      <th>BaRT2v18chr1HG000040</th>\n",
       "      <td>chr1H</td>\n",
       "      <td>102316</td>\n",
       "      <td>103908</td>\n",
       "      <td>+</td>\n",
       "      <td>HC Iso-Seq;HC Iso-Seq</td>\n",
       "      <td>Enriched TSS and TES;Enriched TSS and TES</td>\n",
       "      <td>NaN</td>\n",
       "      <td>GO:0097159;GO:0005488;GO:0003676;GO:1901363</td>\n",
       "      <td>nucleic acid binding;organic cyclic compound b...</td>\n",
       "      <td>Coding;Coding</td>\n",
       "    </tr>\n",
       "    <tr>\n",
       "      <th>BaRT2v18chr1HG000050</th>\n",
       "      <td>chr1H</td>\n",
       "      <td>102332</td>\n",
       "      <td>108065</td>\n",
       "      <td>-</td>\n",
       "      <td>Illumina;Illumina;HC Iso-Seq;HC Iso-Seq;HC Iso...</td>\n",
       "      <td>Illumina;Illumina;Enriched TSS and TES;Enriche...</td>\n",
       "      <td>Peroxin-14</td>\n",
       "      <td>GO:0072662;GO:0044743;GO:0016558;GO:0006996;GO...</td>\n",
       "      <td>protein binding;signaling receptor binding;bin...</td>\n",
       "      <td>Coding;Coding;Unproductive;Coding;Unproductive...</td>\n",
       "    </tr>\n",
       "    <tr>\n",
       "      <th>BaRT2v18chr1HG000060</th>\n",
       "      <td>chr1H</td>\n",
       "      <td>110052</td>\n",
       "      <td>113271</td>\n",
       "      <td>-</td>\n",
       "      <td>Illumina;HC Iso-Seq;HC Iso-Seq;HC Iso-Seq;HC I...</td>\n",
       "      <td>Illumina;Enriched TSS and TES;Enriched TSS and...</td>\n",
       "      <td>RING-finger ubiquitin ligase;E3 ubiquitin-prot...</td>\n",
       "      <td>GO:0071310;GO:0009756;GO:0006508;GO:0031410;GO...</td>\n",
       "      <td>intracellular membrane-bounded organelle;estab...</td>\n",
       "      <td>Coding;Unproductive;Unproductive;Unproductive;...</td>\n",
       "    </tr>\n",
       "  </tbody>\n",
       "</table>\n",
       "</div>"
      ],
      "text/plain": [
       "                     Chromosome   Start     End Strand  \\\n",
       "BaRTv2 gene                                              \n",
       "BaRT2v18chr1HG000020      chr1H   72060   73355      +   \n",
       "BaRT2v18chr1HG000030      chr1H   72100   73281      -   \n",
       "BaRT2v18chr1HG000040      chr1H  102316  103908      +   \n",
       "BaRT2v18chr1HG000050      chr1H  102332  108065      -   \n",
       "BaRT2v18chr1HG000060      chr1H  110052  113271      -   \n",
       "\n",
       "                                                                Sources  \\\n",
       "BaRTv2 gene                                                               \n",
       "BaRT2v18chr1HG000020                                Illumina;HC Iso-Seq   \n",
       "BaRT2v18chr1HG000030                                           Illumina   \n",
       "BaRT2v18chr1HG000040                              HC Iso-Seq;HC Iso-Seq   \n",
       "BaRT2v18chr1HG000050  Illumina;Illumina;HC Iso-Seq;HC Iso-Seq;HC Iso...   \n",
       "BaRT2v18chr1HG000060  Illumina;HC Iso-Seq;HC Iso-Seq;HC Iso-Seq;HC I...   \n",
       "\n",
       "                                                            End support  \\\n",
       "BaRTv2 gene                                                               \n",
       "BaRT2v18chr1HG000020                      Illumina;Enriched TSS and TES   \n",
       "BaRT2v18chr1HG000030                                           Illumina   \n",
       "BaRT2v18chr1HG000040          Enriched TSS and TES;Enriched TSS and TES   \n",
       "BaRT2v18chr1HG000050  Illumina;Illumina;Enriched TSS and TES;Enriche...   \n",
       "BaRT2v18chr1HG000060  Illumina;Enriched TSS and TES;Enriched TSS and...   \n",
       "\n",
       "                                                     Pannzer annotation  \\\n",
       "BaRTv2 gene                                                               \n",
       "BaRT2v18chr1HG000020           50S ribosomal protein L28, chloroplastic   \n",
       "BaRT2v18chr1HG000030                                                NaN   \n",
       "BaRT2v18chr1HG000040                                                NaN   \n",
       "BaRT2v18chr1HG000050                                         Peroxin-14   \n",
       "BaRT2v18chr1HG000060  RING-finger ubiquitin ligase;E3 ubiquitin-prot...   \n",
       "\n",
       "                                                                 GO IDs  \\\n",
       "BaRTv2 gene                                                               \n",
       "BaRT2v18chr1HG000020  GO:0097159;GO:0005783;GO:0003723;GO:0012505;GO...   \n",
       "BaRT2v18chr1HG000030                                                NaN   \n",
       "BaRT2v18chr1HG000040        GO:0097159;GO:0005488;GO:0003676;GO:1901363   \n",
       "BaRT2v18chr1HG000050  GO:0072662;GO:0044743;GO:0016558;GO:0006996;GO...   \n",
       "BaRT2v18chr1HG000060  GO:0071310;GO:0009756;GO:0006508;GO:0031410;GO...   \n",
       "\n",
       "                                                               GO terms  \\\n",
       "BaRTv2 gene                                                               \n",
       "BaRT2v18chr1HG000020  binding;organelle envelope;intracellular membr...   \n",
       "BaRT2v18chr1HG000030                                                NaN   \n",
       "BaRT2v18chr1HG000040  nucleic acid binding;organic cyclic compound b...   \n",
       "BaRT2v18chr1HG000050  protein binding;signaling receptor binding;bin...   \n",
       "BaRT2v18chr1HG000060  intracellular membrane-bounded organelle;estab...   \n",
       "\n",
       "                                                    Coding potentiality  \n",
       "BaRTv2 gene                                                              \n",
       "BaRT2v18chr1HG000020                                Unproductive;Coding  \n",
       "BaRT2v18chr1HG000030                                         Non_Coding  \n",
       "BaRT2v18chr1HG000040                                      Coding;Coding  \n",
       "BaRT2v18chr1HG000050  Coding;Coding;Unproductive;Coding;Unproductive...  \n",
       "BaRT2v18chr1HG000060  Coding;Unproductive;Unproductive;Unproductive;...  "
      ]
     },
     "execution_count": 5,
     "metadata": {},
     "output_type": "execute_result"
    }
   ],
   "source": [
    "import pandas as pd\n",
    "annotation = pd.read_csv(gene_annotation, delimiter=\"\\t\",index_col=0)\n",
    "annotation.head()"
   ]
  },
  {
   "cell_type": "code",
   "execution_count": 23,
   "metadata": {},
   "outputs": [],
   "source": [
    "with open(GO_annotation,\"w\") as out:\n",
    "    for gene in annotation.index:\n",
    "        try:\n",
    "            for GO in annotation.at[gene,\"GO IDs\"].split(\";\"):\n",
    "                out.write(f\"{gene}\\t{GO}\\n\")\n",
    "        except AttributeError:\n",
    "            pass"
   ]
  },
  {
   "cell_type": "markdown",
   "metadata": {},
   "source": [
    "* Create GAF file:"
   ]
  },
  {
   "cell_type": "code",
   "execution_count": 24,
   "metadata": {},
   "outputs": [],
   "source": [
    "\n",
    "output = \"BaRTv2.18_GO.gaf\"\n",
    "\n",
    "\n",
    "\n",
    "with open(output, \"w\") as out:\n",
    "        out.write(\"!gaf-version: 2.0\\n\")\n",
    "        for line in open(GO_annotation):\n",
    "                gene, GO_id = line.strip().split(\"\\t\")\n",
    "                out.write(f\"WB\\t{gene}\\t{gene}\\toptional\\t{GO_id}\\tpubmed\\tunknown\\toptional\\tunknown\\t\\toptional\\toptional\\tprotein\\tunknown\\t{gene}\\tWB\\toptional\\toptional\\n\")"
   ]
  },
  {
   "cell_type": "code",
   "execution_count": 31,
   "metadata": {},
   "outputs": [
    {
     "name": "stdout",
     "output_type": "stream",
     "text": [
      "/cluster/db/mecoulter/CEMartinez_RNAseq-209915706/results/GO\n"
     ]
    }
   ],
   "source": [
    "!echo $PWD"
   ]
  },
  {
   "cell_type": "code",
   "execution_count": 15,
   "metadata": {},
   "outputs": [],
   "source": [
    "#<grep \"id: GO:\" goslim_plant.obo | grep -v alt | cut -d\" \" -f2 > goslim_terms.txt> run in terminal"
   ]
  },
  {
   "cell_type": "markdown",
   "metadata": {},
   "source": [
    "* Create GO slims. INstructions from:\n",
    "* go-basic.obo from:\n",
    "* goslim_terms.txt are plant GO slim terms"
   ]
  },
  {
   "cell_type": "code",
   "execution_count": null,
   "metadata": {},
   "outputs": [],
   "source": [
    "!/cluster/db/mecoulter/CEMartinez_RNAseq-209915706/results/GO/owltools/OWLTools-Runner/target/owltools go-basic.obo --gaf BaRTv2.18_GO.gaf --map2slim --idfile goslim_terms.txt --write-gaf BaRTv2.18_slim.txt"
   ]
  },
  {
   "cell_type": "code",
   "execution_count": 33,
   "metadata": {},
   "outputs": [],
   "source": [
    "input1 = \"goslim_plant.obo\"\n",
    "outfile = \"goslim_ids_descriptions.txt\"\n",
    "\n",
    "with open(outfile,\"w\") as out:\n",
    "\tout.write(\"term_id\\tdescription\\n\")\n",
    "\tis_GO = False\n",
    "\tfor line in open(input1):\n",
    "\t\tif line.startswith(\"[Term]\"):#Line [Term] must appear before id\n",
    "\t\t\tis_GO = True\n",
    "\t\tif line.startswith(\"id:\") and is_GO:\n",
    "\t\t\tID = line.strip().replace(\"id: \",\"\")\n",
    "\t\t\tout.write(ID + \"\\t\")\n",
    "\t\telif line.startswith(\"name:\") and is_GO:\n",
    "\t\t\tname = line.strip().replace(\"name: \",\"\")\n",
    "\t\t\tout.write(name + \"\\n\")\n",
    "\t\t\tis_GO = False\n",
    "\t\telse:\n",
    "\t\t\tcontinue"
   ]
  },
  {
   "cell_type": "code",
   "execution_count": 34,
   "metadata": {},
   "outputs": [],
   "source": [
    "#Now create other input file for GO_slim analysis:\n",
    "#gene_id and term_id\n",
    "input1 = \"BaRTv2.18_slim.txt\"\n",
    "outfile = \"BaRTv2.18_gene_slim.txt\"\n",
    "\n",
    "gene_terms = {}\n",
    "allGOslims = set()\n",
    "for line in open(input1):\n",
    "\tif line.startswith(\"!\"):\n",
    "\t\tcontinue\n",
    "\tfields = line.split(\"\\t\")\n",
    "\tgene = fields[1]\n",
    "\tterm = fields[4]\n",
    "\tallGOslims.add(term)\n",
    "\tgene_terms.setdefault(gene,set()).add(term)\n",
    "\n",
    "with open(outfile,\"w\") as out:\n",
    "\tout.write(\"gene_id\\tterm_id\\n\")\n",
    "\tfor gene, term_set in gene_terms.items():\n",
    "\t\tfor term in term_set:\n",
    "\t\t\tout.write(gene + \"\\t\" + term + \"\\n\")"
   ]
  },
  {
   "cell_type": "code",
   "execution_count": null,
   "metadata": {},
   "outputs": [],
   "source": []
  }
 ],
 "metadata": {
  "kernelspec": {
   "display_name": "Python 3",
   "language": "python",
   "name": "python3"
  },
  "language_info": {
   "codemirror_mode": {
    "name": "ipython",
    "version": 3
   },
   "file_extension": ".py",
   "mimetype": "text/x-python",
   "name": "python",
   "nbconvert_exporter": "python",
   "pygments_lexer": "ipython3",
   "version": "3.8.5"
  }
 },
 "nbformat": 4,
 "nbformat_minor": 4
}
