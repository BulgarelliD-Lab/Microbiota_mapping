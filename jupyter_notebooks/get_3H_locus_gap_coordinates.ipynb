{
 "cells": [
  {
   "cell_type": "markdown",
   "id": "b4756078-2a83-459c-a056-969dded9ee66",
   "metadata": {},
   "source": [
    "## Get coordinates of 3H locus region of dissimilarity:\n",
    "\n",
    "7/10/21"
   ]
  },
  {
   "cell_type": "code",
   "execution_count": null,
   "id": "57d0b9b3-0fcc-488d-b667-e3713edd68c6",
   "metadata": {},
   "outputs": [],
   "source": [
    "os.chdir(\"./3H_locus/\")"
   ]
  },
  {
   "cell_type": "code",
   "execution_count": 5,
   "id": "aa2fe259-a450-4e9d-bad3-16ee3d235b2f",
   "metadata": {},
   "outputs": [
    {
     "name": "stdout",
     "output_type": "stream",
     "text": [
      "270\n",
      "Top 10 gaps with coordinates:\n",
      "\n",
      "Gap size: 480959, gap coordinates: [(5582968, 6063927)]\n",
      "Gap size: 160885, gap coordinates: [(1905801, 2066686)]\n",
      "Gap size: 105779, gap coordinates: [(6072303, 6178082)]\n",
      "Gap size: 59059, gap coordinates: [(2178646, 2237705)]\n",
      "Gap size: 55298, gap coordinates: [(1589651, 1644949)]\n",
      "Gap size: 48799, gap coordinates: [(5457189, 5505988)]\n",
      "Gap size: 38256, gap coordinates: [(1273601, 1311857)]\n",
      "Gap size: 34162, gap coordinates: [(6240134, 6274296)]\n",
      "Gap size: 33155, gap coordinates: [(1515543, 1548698)]\n",
      "Gap size: 30407, gap coordinates: [(5404738, 5435145)]\n",
      "Likely coordinates of region of disimilarity 3H from file Morex_Barke_filtered.delta: [(36582968, 37063927)],\n",
      "Mummer coordinates [(5582968, 6063927)] \n",
      "\n",
      "\n"
     ]
    },
    {
     "data": {
      "text/plain": [
       "480959"
      ]
     },
     "execution_count": 5,
     "metadata": {},
     "output_type": "execute_result"
    }
   ],
   "source": [
    "\n",
    "import os\n",
    "\n",
    "def get_deletion(test_file, start):\n",
    "    \n",
    "    gaps = []\n",
    "\n",
    "    gap_coordinates = {}#Key is gap size, value is list of coordinates\n",
    "    gap_coordinates_mummer = {}#Key is gap size, value is list of coordinates (with reference to plot)\n",
    "    \n",
    "    previous_end = 0\n",
    "    \n",
    "    for line in open(test_file):\n",
    "        if line.startswith(\"NUCMER\") or line.startswith(\">\") \\\n",
    "        or line.startswith(\"/\"):\n",
    "            continue\n",
    "\n",
    "        if len(line.split(\" \")) == 1:\n",
    "            continue\n",
    "\n",
    "        subject_start, subject_end = line.split(\" \")[0:2]\n",
    "\n",
    "        if previous_end:\n",
    "            gap = int(subject_start) - previous_end\n",
    "            gaps.append(gap)\n",
    "\n",
    "            gap_coordinates.setdefault(gap,[]).append((start + previous_end, start + int(subject_start)))\n",
    "            gap_coordinates_mummer.setdefault(gap,[]).append((previous_end, int(subject_start)))\n",
    "\n",
    "        try:\n",
    "            previous_end = int(subject_end)\n",
    "\n",
    "        except ValueError:\n",
    "            print(str(subject_end))\n",
    "            break\n",
    "\n",
    "    \n",
    "    #Now find largest gaps\n",
    "    print(str(len(gaps)))\n",
    "    \n",
    "    if gaps:\n",
    "        gaps.sort(reverse=True)\n",
    "\n",
    "        print(f\"Top 10 gaps with coordinates:\\n\")\n",
    "        for i in range(0,10):\n",
    "            print(f\"Gap size: {gaps[i]}, gap coordinates: {gap_coordinates_mummer[gaps[i]]}\")\n",
    "        print(f\"Likely coordinates of region of disimilarity 3H from file {test_file}: {gap_coordinates[gaps[0]]},\\nMummer coordinates {gap_coordinates_mummer[gaps[0]]} \\n\\n\")\n",
    "        return gaps[0]\n",
    "    else:\n",
    "        print(\"Error! no gaps!\")\n",
    "        return 0\n",
    "    \n",
    "    \n",
    "test_file = \"Morex_Barke_filtered.delta\"\n",
    "\n",
    "start = 31000000 #start of the alignment in RGT_Planet\n",
    "\n",
    "\n",
    "\n",
    "\n",
    "get_deletion(test_file, start)\n",
    "    \n",
    "    \n",
    "    \n",
    "    \n",
    "    \n"
   ]
  },
  {
   "cell_type": "code",
   "execution_count": 2,
   "id": "09a81163-dfc8-4092-b6da-d5f958454b45",
   "metadata": {},
   "outputs": [
    {
     "name": "stdout",
     "output_type": "stream",
     "text": [
      "/cluster/db/mecoulter/genomes/mummer_results\n"
     ]
    }
   ],
   "source": []
  },
  {
   "cell_type": "code",
   "execution_count": null,
   "id": "0c8441af-3623-4e90-97e9-678f731ef8e8",
   "metadata": {},
   "outputs": [],
   "source": []
  }
 ],
 "metadata": {
  "kernelspec": {
   "display_name": "Python 3 (ipykernel)",
   "language": "python",
   "name": "python3"
  },
  "language_info": {
   "codemirror_mode": {
    "name": "ipython",
    "version": 3
   },
   "file_extension": ".py",
   "mimetype": "text/x-python",
   "name": "python",
   "nbconvert_exporter": "python",
   "pygments_lexer": "ipython3",
   "version": "3.8.10"
  }
 },
 "nbformat": 4,
 "nbformat_minor": 5
}
