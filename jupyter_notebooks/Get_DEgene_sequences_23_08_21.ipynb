{
 "cells": [
  {
   "cell_type": "code",
   "execution_count": 6,
   "metadata": {},
   "outputs": [],
   "source": [
    "\"\"\"Extract sequences of a list of genes from BaRTv2.18 fasta file\"\"\"\n",
    "\n",
    "\n",
    "import os\n",
    "\n",
    "os.chdir(\"/cluster/db/mecoulter/RNAseq2/\")\n",
    "\n",
    "genes = {\"BaRT2v18chr3HG123500\", \"BaRT2v18chr3HG123110\", \"BaRT2v18chr3HG123350\",\n",
    "         \"BaRT2v18chr3HG123440\"}#These genes are DE with 124_52-124_17 comparison and are in 3H locus\n",
    "\n",
    "fastain = \"/cluster/db/mecoulter/BaRT2v18/BaRT2v18.fa\"\n",
    "\n",
    "fasta_out = \"HEB_124_52.2-HEB_124_17.2_3H_DEgenes.fa\"\n",
    "\n",
    "writer = False\n",
    "with open(fasta_out, \"w\") as out:\n",
    "\tfor line in open(fastain):\n",
    "\t\tif line.startswith(\">\"):\n",
    "\t\t\tgene = line.rstrip().replace(\">\",\"\").split(\".\")[0]\n",
    "\t\t\tif gene in genes:\n",
    "\t\t\t\tout.write(line)\n",
    "\t\t\t\twriter = True\n",
    "\t\t\telse:\n",
    "\t\t\t\twriter = False\n",
    "\t\telse:\n",
    "\t\t\tif writer:\n",
    "\t\t\t\tout.write(line)"
   ]
  },
  {
   "cell_type": "code",
   "execution_count": 3,
   "metadata": {},
   "outputs": [],
   "source": []
  },
  {
   "cell_type": "code",
   "execution_count": null,
   "metadata": {},
   "outputs": [],
   "source": []
  }
 ],
 "metadata": {
  "kernelspec": {
   "display_name": "Python 3",
   "language": "python",
   "name": "python3"
  },
  "language_info": {
   "codemirror_mode": {
    "name": "ipython",
    "version": 3
   },
   "file_extension": ".py",
   "mimetype": "text/x-python",
   "name": "python",
   "nbconvert_exporter": "python",
   "pygments_lexer": "ipython3",
   "version": "3.8.5"
  }
 },
 "nbformat": 4,
 "nbformat_minor": 4
}
