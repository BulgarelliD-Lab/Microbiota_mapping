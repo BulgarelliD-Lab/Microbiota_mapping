{
 "cells": [
  {
   "cell_type": "code",
   "execution_count": 3,
   "metadata": {},
   "outputs": [],
   "source": [
    "import os\n",
    "import sys\n",
    "import pandas as pd"
   ]
  },
  {
   "cell_type": "code",
   "execution_count": 2,
   "metadata": {},
   "outputs": [],
   "source": [
    "os.chdir(\"/cluster/db/mecoulter/RNAseq2/bcftools/\")"
   ]
  },
  {
   "cell_type": "markdown",
   "metadata": {},
   "source": [
    "### Analyse output of SNPeff for second RNAseq experiment to work out which genes have variants of large effect"
   ]
  },
  {
   "cell_type": "code",
   "execution_count": 5,
   "metadata": {},
   "outputs": [],
   "source": [
    "input_file = \"3H_locus_filtered.anno.vcf\"\n",
    "annotation_input = \"/cluster/db/mecoulter/BaRT2v18/BaRT_2_18_annotation_genes.txt\""
   ]
  },
  {
   "cell_type": "code",
   "execution_count": 24,
   "metadata": {},
   "outputs": [],
   "source": [
    "impact = {\"MODIFIER\":0, \"LOW\": 0, \"MODERATE\": 0, \"HIGH\": 0 }\n",
    "\n",
    "gene_impact = {} #Per gene impact annotation\n",
    "gene_SNP_annotation = {} #Per gene SNP annotation, HIGH or MODERATE only\n",
    "\n",
    "annotation_counts = {}\n",
    "annotation_position = {}\n",
    "\n",
    "for line in open(input_file):\n",
    "\tif line.startswith(\"#\"):\n",
    "\t\tcontinue\n",
    "\tfields = line.rstrip().split(\"\\t\")\n",
    "\tINFO = fields[7]\n",
    "\tSNP_position = fields[1]#Position of SNP on 3H in bp\n",
    "\tREF = fields[3] #Reference allele\n",
    "\tALT = fields[4] #Alternative allele\n",
    "\t\n",
    "\tannotations = INFO.split(\"ANN=\")[1].split(\"=\")[0].split(\",\")#List of all possible annotations\n",
    "\t  \n",
    "\tfor annotation in annotations:\n",
    "\t\ttry:#For notes on what each of these fields are (below) see the snpEff manual\n",
    "\t\t\tallele, p_annotation, putative_impact, position, gene, feature_type, transcript, transcript_type  = annotation.split(\"|\")[:8]\n",
    "\t\texcept ValueError:\n",
    "\t\t\tprint(f\"Error at position {SNP_position}! Annotation is {annotation}\")\n",
    "\t\t\tsys.exit()\n",
    "\t\tgene_impact.setdefault(gene,set()).add(putative_impact)\n",
    "\t\tif putative_impact == \"HIGH\" or putative_impact == \"MODERATE\":\n",
    "\t\t\tgene_SNP_annotation.setdefault(gene,set()).add(p_annotation)\n",
    "\t\t\tannotation_position.setdefault(SNP_position,[]).append([REF,ALT,p_annotation,transcript])\n",
    "\n",
    "for gene, impacts in gene_impact.items():\n",
    "\tfor putative_impact in impacts:\n",
    "\t\timpact[putative_impact] += 1\n",
    "\n",
    "for gene, annotations in gene_SNP_annotation.items():\n",
    "\tfor annotation in annotations:\n",
    "\t\ttry:\n",
    "\t\t\tannotation_counts[annotation] += 1\n",
    "\t\texcept KeyError:\n",
    "\t\t\tannotation_counts[annotation] = 1"
   ]
  },
  {
   "cell_type": "code",
   "execution_count": 7,
   "metadata": {},
   "outputs": [
    {
     "name": "stdout",
     "output_type": "stream",
     "text": [
      "Number of genes with each impact category: {'MODIFIER': 131, 'LOW': 68, 'MODERATE': 52, 'HIGH': 11}\n",
      "Number of genes with either HIGH or MODERATE variants: 55\n",
      "Number of genes with HIGH or MODERATE variants with each annotation category: {'splice_acceptor_variant&intron_variant': 3, 'missense_variant': 52, 'missense_variant&splice_region_variant': 4, 'stop_gained': 1, 'frameshift_variant': 4, 'splice_donor_variant&intron_variant': 2, 'stop_lost': 2, 'disruptive_inframe_insertion': 1}\n"
     ]
    }
   ],
   "source": [
    "print(f\"Number of genes with each impact category: {impact}\")#One gene can have multiple categories\n",
    "\n",
    "print(f\"Number of genes with either HIGH or MODERATE variants: {len(gene_SNP_annotation.keys())}\")\n",
    "\n",
    "print(f\"Number of genes with HIGH or MODERATE variants with each annotation category: {annotation_counts}\")"
   ]
  },
  {
   "cell_type": "markdown",
   "metadata": {},
   "source": [
    "* Go through each gene with high or moderate impact SNP:"
   ]
  },
  {
   "cell_type": "code",
   "execution_count": 8,
   "metadata": {},
   "outputs": [
    {
     "name": "stdout",
     "output_type": "stream",
     "text": [
      "Gene BaRT2v18chr3HG122610 annotations: splice_acceptor_variant&intron_variant,missense_variant\n",
      "Gene BaRT2v18chr3HG122620 annotations: missense_variant\n",
      "Gene BaRT2v18chr3HG122640 annotations: missense_variant\n",
      "Gene BaRT2v18chr3HG122680 annotations: missense_variant\n",
      "Gene BaRT2v18chr3HG122690 annotations: missense_variant\n",
      "Gene BaRT2v18chr3HG122720 annotations: missense_variant,missense_variant&splice_region_variant\n",
      "Gene BaRT2v18chr3HG122730 annotations: missense_variant\n",
      "Gene BaRT2v18chr3HG122740 annotations: missense_variant\n",
      "Gene BaRT2v18chr3HG122750 annotations: missense_variant\n",
      "Gene BaRT2v18chr3HG122760 annotations: missense_variant\n",
      "Gene BaRT2v18chr3HG122770 annotations: missense_variant\n",
      "Gene BaRT2v18chr3HG122790 annotations: missense_variant\n",
      "Gene BaRT2v18chr3HG122800 annotations: missense_variant\n",
      "Gene BaRT2v18chr3HG122810 annotations: missense_variant&splice_region_variant,missense_variant,stop_gained\n",
      "Gene BaRT2v18chr3HG122810-BaRT2v18chr3HG122820 annotations: missense_variant,missense_variant&splice_region_variant\n",
      "Gene BaRT2v18chr3HG122830 annotations: missense_variant,frameshift_variant\n",
      "Gene BaRT2v18chr3HG122840 annotations: missense_variant\n",
      "Gene BaRT2v18chr3HG122860 annotations: missense_variant,frameshift_variant\n",
      "Gene BaRT2v18chr3HG122870 annotations: splice_donor_variant&intron_variant\n",
      "Gene BaRT2v18chr3HG122880 annotations: missense_variant\n",
      "Gene BaRT2v18chr3HG122890 annotations: missense_variant\n",
      "Gene BaRT2v18chr3HG122900 annotations: missense_variant\n",
      "Gene BaRT2v18chr3HG122920 annotations: missense_variant,missense_variant&splice_region_variant\n",
      "Gene BaRT2v18chr3HG122970 annotations: missense_variant\n",
      "Gene BaRT2v18chr3HG122990 annotations: missense_variant\n",
      "Gene BaRT2v18chr3HG123000 annotations: missense_variant\n",
      "Gene BaRT2v18chr3HG123020 annotations: missense_variant\n",
      "Gene BaRT2v18chr3HG123010 annotations: missense_variant\n",
      "Gene BaRT2v18chr3HG123050 annotations: missense_variant\n",
      "Gene BaRT2v18chr3HG123040 annotations: missense_variant\n",
      "Gene BaRT2v18chr3HG123060 annotations: missense_variant\n",
      "Gene BaRT2v18chr3HG123080 annotations: missense_variant\n",
      "Gene BaRT2v18chr3HG123090 annotations: missense_variant\n",
      "Gene BaRT2v18chr3HG123110 annotations: missense_variant,frameshift_variant,stop_lost\n",
      "Gene BaRT2v18chr3HG123120 annotations: missense_variant\n",
      "Gene BaRT2v18chr3HG123140 annotations: missense_variant,frameshift_variant\n",
      "Gene BaRT2v18chr3HG123160 annotations: missense_variant\n",
      "Gene BaRT2v18chr3HG123180 annotations: stop_lost\n",
      "Gene BaRT2v18chr3HG123220 annotations: missense_variant\n",
      "Gene BaRT2v18chr3HG123250 annotations: missense_variant\n",
      "Gene BaRT2v18chr3HG123260 annotations: missense_variant\n",
      "Gene BaRT2v18chr3HG123280 annotations: missense_variant,disruptive_inframe_insertion\n",
      "Gene BaRT2v18chr3HG123380 annotations: missense_variant\n",
      "Gene BaRT2v18chr3HG123400 annotations: missense_variant\n",
      "Gene BaRT2v18chr3HG123410 annotations: missense_variant\n",
      "Gene BaRT2v18chr3HG123480 annotations: splice_donor_variant&intron_variant,missense_variant\n",
      "Gene BaRT2v18chr3HG123550 annotations: missense_variant\n",
      "Gene BaRT2v18chr3HG123600 annotations: missense_variant\n",
      "Gene BaRT2v18chr3HG123610 annotations: missense_variant\n",
      "Gene BaRT2v18chr3HG123630 annotations: missense_variant\n",
      "Gene BaRT2v18chr3HG123650 annotations: splice_acceptor_variant&intron_variant,missense_variant\n",
      "Gene BaRT2v18chr3HG123660 annotations: missense_variant\n",
      "Gene BaRT2v18chr3HG123700 annotations: splice_acceptor_variant&intron_variant\n",
      "Gene BaRT2v18chr3HG123710 annotations: missense_variant\n",
      "Gene BaRT2v18chr3HG123780 annotations: missense_variant\n"
     ]
    }
   ],
   "source": [
    "for gene, annotations in gene_SNP_annotation.items():\n",
    "\tannotation_list = \",\".join(list(annotations))\n",
    "\tprint(f\"Gene {gene} annotations: {annotation_list}\")"
   ]
  },
  {
   "cell_type": "markdown",
   "metadata": {},
   "source": [
    "* Lots of missense variants. What about genes with very high impacts? Read in BaRTv2.18 gene annotation file to see what things are:"
   ]
  },
  {
   "cell_type": "code",
   "execution_count": 9,
   "metadata": {},
   "outputs": [
    {
     "data": {
      "text/html": [
       "<div>\n",
       "<style scoped>\n",
       "    .dataframe tbody tr th:only-of-type {\n",
       "        vertical-align: middle;\n",
       "    }\n",
       "\n",
       "    .dataframe tbody tr th {\n",
       "        vertical-align: top;\n",
       "    }\n",
       "\n",
       "    .dataframe thead th {\n",
       "        text-align: right;\n",
       "    }\n",
       "</style>\n",
       "<table border=\"1\" class=\"dataframe\">\n",
       "  <thead>\n",
       "    <tr style=\"text-align: right;\">\n",
       "      <th></th>\n",
       "      <th>Chromosome</th>\n",
       "      <th>Start</th>\n",
       "      <th>End</th>\n",
       "      <th>Strand</th>\n",
       "      <th>Sources</th>\n",
       "      <th>End support</th>\n",
       "      <th>Pannzer annotation</th>\n",
       "      <th>GO IDs</th>\n",
       "      <th>GO terms</th>\n",
       "      <th>Coding potentiality</th>\n",
       "    </tr>\n",
       "    <tr>\n",
       "      <th>BaRTv2 gene</th>\n",
       "      <th></th>\n",
       "      <th></th>\n",
       "      <th></th>\n",
       "      <th></th>\n",
       "      <th></th>\n",
       "      <th></th>\n",
       "      <th></th>\n",
       "      <th></th>\n",
       "      <th></th>\n",
       "      <th></th>\n",
       "    </tr>\n",
       "  </thead>\n",
       "  <tbody>\n",
       "    <tr>\n",
       "      <th>BaRT2v18chr1HG000020</th>\n",
       "      <td>chr1H</td>\n",
       "      <td>72060</td>\n",
       "      <td>73355</td>\n",
       "      <td>+</td>\n",
       "      <td>Illumina;HC Iso-Seq</td>\n",
       "      <td>Illumina;Enriched TSS and TES</td>\n",
       "      <td>50S ribosomal protein L28, chloroplastic</td>\n",
       "      <td>GO:0097159;GO:0005783;GO:0003723;GO:0012505;GO...</td>\n",
       "      <td>binding;organelle envelope;intracellular membr...</td>\n",
       "      <td>Unproductive;Coding</td>\n",
       "    </tr>\n",
       "    <tr>\n",
       "      <th>BaRT2v18chr1HG000030</th>\n",
       "      <td>chr1H</td>\n",
       "      <td>72100</td>\n",
       "      <td>73281</td>\n",
       "      <td>-</td>\n",
       "      <td>Illumina</td>\n",
       "      <td>Illumina</td>\n",
       "      <td>NaN</td>\n",
       "      <td>NaN</td>\n",
       "      <td>NaN</td>\n",
       "      <td>Non_Coding</td>\n",
       "    </tr>\n",
       "    <tr>\n",
       "      <th>BaRT2v18chr1HG000040</th>\n",
       "      <td>chr1H</td>\n",
       "      <td>102316</td>\n",
       "      <td>103908</td>\n",
       "      <td>+</td>\n",
       "      <td>HC Iso-Seq;HC Iso-Seq</td>\n",
       "      <td>Enriched TSS and TES;Enriched TSS and TES</td>\n",
       "      <td>NaN</td>\n",
       "      <td>GO:0097159;GO:0005488;GO:0003676;GO:1901363</td>\n",
       "      <td>nucleic acid binding;organic cyclic compound b...</td>\n",
       "      <td>Coding;Coding</td>\n",
       "    </tr>\n",
       "    <tr>\n",
       "      <th>BaRT2v18chr1HG000050</th>\n",
       "      <td>chr1H</td>\n",
       "      <td>102332</td>\n",
       "      <td>108065</td>\n",
       "      <td>-</td>\n",
       "      <td>Illumina;Illumina;HC Iso-Seq;HC Iso-Seq;HC Iso...</td>\n",
       "      <td>Illumina;Illumina;Enriched TSS and TES;Enriche...</td>\n",
       "      <td>Peroxin-14</td>\n",
       "      <td>GO:0072662;GO:0044743;GO:0016558;GO:0006996;GO...</td>\n",
       "      <td>protein binding;signaling receptor binding;bin...</td>\n",
       "      <td>Coding;Coding;Unproductive;Coding;Unproductive...</td>\n",
       "    </tr>\n",
       "    <tr>\n",
       "      <th>BaRT2v18chr1HG000060</th>\n",
       "      <td>chr1H</td>\n",
       "      <td>110052</td>\n",
       "      <td>113271</td>\n",
       "      <td>-</td>\n",
       "      <td>Illumina;HC Iso-Seq;HC Iso-Seq;HC Iso-Seq;HC I...</td>\n",
       "      <td>Illumina;Enriched TSS and TES;Enriched TSS and...</td>\n",
       "      <td>RING-finger ubiquitin ligase;E3 ubiquitin-prot...</td>\n",
       "      <td>GO:0071310;GO:0009756;GO:0006508;GO:0031410;GO...</td>\n",
       "      <td>intracellular membrane-bounded organelle;estab...</td>\n",
       "      <td>Coding;Unproductive;Unproductive;Unproductive;...</td>\n",
       "    </tr>\n",
       "  </tbody>\n",
       "</table>\n",
       "</div>"
      ],
      "text/plain": [
       "                     Chromosome   Start     End Strand  \\\n",
       "BaRTv2 gene                                              \n",
       "BaRT2v18chr1HG000020      chr1H   72060   73355      +   \n",
       "BaRT2v18chr1HG000030      chr1H   72100   73281      -   \n",
       "BaRT2v18chr1HG000040      chr1H  102316  103908      +   \n",
       "BaRT2v18chr1HG000050      chr1H  102332  108065      -   \n",
       "BaRT2v18chr1HG000060      chr1H  110052  113271      -   \n",
       "\n",
       "                                                                Sources  \\\n",
       "BaRTv2 gene                                                               \n",
       "BaRT2v18chr1HG000020                                Illumina;HC Iso-Seq   \n",
       "BaRT2v18chr1HG000030                                           Illumina   \n",
       "BaRT2v18chr1HG000040                              HC Iso-Seq;HC Iso-Seq   \n",
       "BaRT2v18chr1HG000050  Illumina;Illumina;HC Iso-Seq;HC Iso-Seq;HC Iso...   \n",
       "BaRT2v18chr1HG000060  Illumina;HC Iso-Seq;HC Iso-Seq;HC Iso-Seq;HC I...   \n",
       "\n",
       "                                                            End support  \\\n",
       "BaRTv2 gene                                                               \n",
       "BaRT2v18chr1HG000020                      Illumina;Enriched TSS and TES   \n",
       "BaRT2v18chr1HG000030                                           Illumina   \n",
       "BaRT2v18chr1HG000040          Enriched TSS and TES;Enriched TSS and TES   \n",
       "BaRT2v18chr1HG000050  Illumina;Illumina;Enriched TSS and TES;Enriche...   \n",
       "BaRT2v18chr1HG000060  Illumina;Enriched TSS and TES;Enriched TSS and...   \n",
       "\n",
       "                                                     Pannzer annotation  \\\n",
       "BaRTv2 gene                                                               \n",
       "BaRT2v18chr1HG000020           50S ribosomal protein L28, chloroplastic   \n",
       "BaRT2v18chr1HG000030                                                NaN   \n",
       "BaRT2v18chr1HG000040                                                NaN   \n",
       "BaRT2v18chr1HG000050                                         Peroxin-14   \n",
       "BaRT2v18chr1HG000060  RING-finger ubiquitin ligase;E3 ubiquitin-prot...   \n",
       "\n",
       "                                                                 GO IDs  \\\n",
       "BaRTv2 gene                                                               \n",
       "BaRT2v18chr1HG000020  GO:0097159;GO:0005783;GO:0003723;GO:0012505;GO...   \n",
       "BaRT2v18chr1HG000030                                                NaN   \n",
       "BaRT2v18chr1HG000040        GO:0097159;GO:0005488;GO:0003676;GO:1901363   \n",
       "BaRT2v18chr1HG000050  GO:0072662;GO:0044743;GO:0016558;GO:0006996;GO...   \n",
       "BaRT2v18chr1HG000060  GO:0071310;GO:0009756;GO:0006508;GO:0031410;GO...   \n",
       "\n",
       "                                                               GO terms  \\\n",
       "BaRTv2 gene                                                               \n",
       "BaRT2v18chr1HG000020  binding;organelle envelope;intracellular membr...   \n",
       "BaRT2v18chr1HG000030                                                NaN   \n",
       "BaRT2v18chr1HG000040  nucleic acid binding;organic cyclic compound b...   \n",
       "BaRT2v18chr1HG000050  protein binding;signaling receptor binding;bin...   \n",
       "BaRT2v18chr1HG000060  intracellular membrane-bounded organelle;estab...   \n",
       "\n",
       "                                                    Coding potentiality  \n",
       "BaRTv2 gene                                                              \n",
       "BaRT2v18chr1HG000020                                Unproductive;Coding  \n",
       "BaRT2v18chr1HG000030                                         Non_Coding  \n",
       "BaRT2v18chr1HG000040                                      Coding;Coding  \n",
       "BaRT2v18chr1HG000050  Coding;Coding;Unproductive;Coding;Unproductive...  \n",
       "BaRT2v18chr1HG000060  Coding;Unproductive;Unproductive;Unproductive;...  "
      ]
     },
     "execution_count": 9,
     "metadata": {},
     "output_type": "execute_result"
    }
   ],
   "source": [
    "disruptive = {\"stop_gained\", \"frameshift_variant\", \"start_lost\"}\n",
    "\n",
    "gene_annotation = pd.read_csv(annotation_input, delimiter=\"\\t\",engine=\"c\",index_col=0)\n",
    "gene_annotation.head()\n"
   ]
  },
  {
   "cell_type": "code",
   "execution_count": 14,
   "metadata": {},
   "outputs": [
    {
     "name": "stdout",
     "output_type": "stream",
     "text": [
      "Genes with most impacting variants:\n",
      "\n",
      "Gene BaRT2v18chr3HG122810 annotations: missense_variant&splice_region_variant,missense_variant,stop_gained, pannzer annotation of gene: Glycosyltransferase, ALG3;Putative dolichyl-phosphate-mannose--glycolipid alpha-mannosyltransferase;ALG3 domain-containing protein;Asparagine-linked glycosylation 3\n",
      "\n",
      "Gene BaRT2v18chr3HG122830 annotations: missense_variant,frameshift_variant, pannzer annotation of gene: Signal recognition particle SEC65 subunit\n",
      "\n",
      "Gene BaRT2v18chr3HG122860 annotations: missense_variant,frameshift_variant, pannzer annotation of gene: nan\n",
      "\n",
      "Gene BaRT2v18chr3HG123110 annotations: missense_variant,frameshift_variant,stop_lost, pannzer annotation of gene: nan\n",
      "\n",
      "Gene BaRT2v18chr3HG123140 annotations: missense_variant,frameshift_variant, pannzer annotation of gene: Xyloglucan endotransglucosylase/hydrolase\n",
      "\n"
     ]
    }
   ],
   "source": [
    "print(\"Genes with most impacting variants:\\n\")\n",
    "\n",
    "for gene, annotations in gene_SNP_annotation.items():\n",
    "\tif len(annotations & disruptive) >= 1: #if gene has one or more very disruptive mutations\n",
    "\t\tannotation_list = \",\".join(list(annotations))\n",
    "\t\tpannzer = gene_annotation.at[gene,\"Pannzer annotation\"]\n",
    "\t\tprint(f\"Gene {gene} annotations: {annotation_list}, pannzer annotation of gene: {pannzer}\\n\")"
   ]
  },
  {
   "cell_type": "markdown",
   "metadata": {},
   "source": [
    "* Look at dict annotation_position. Where/what are these high impact SNPs?"
   ]
  },
  {
   "cell_type": "code",
   "execution_count": 25,
   "metadata": {},
   "outputs": [
    {
     "name": "stdout",
     "output_type": "stream",
     "text": [
      "SNP is at position 32472443, reference allele is C, alternative allele is T, predicted anotation: stop_gained, transcript is BaRT2v18chr3HG122810.5\n",
      "\n",
      "SNP is at position 32472443, reference allele is C, alternative allele is T, predicted anotation: stop_gained, transcript is BaRT2v18chr3HG122810.6\n",
      "\n",
      "SNP is at position 32472443, reference allele is C, alternative allele is T, predicted anotation: stop_gained, transcript is BaRT2v18chr3HG122810.10\n",
      "\n",
      "SNP is at position 32542652, reference allele is G, alternative allele is GA, predicted anotation: frameshift_variant, transcript is BaRT2v18chr3HG122830.1\n",
      "\n",
      "SNP is at position 32893802, reference allele is TC, alternative allele is T, predicted anotation: frameshift_variant, transcript is BaRT2v18chr3HG122860.1\n",
      "\n",
      "SNP is at position 34751252, reference allele is AGATTG, alternative allele is A, predicted anotation: frameshift_variant, transcript is BaRT2v18chr3HG123110.11\n",
      "\n",
      "SNP is at position 34751252, reference allele is AGATTG, alternative allele is A, predicted anotation: frameshift_variant, transcript is BaRT2v18chr3HG123110.4\n",
      "\n",
      "SNP is at position 34751252, reference allele is AGATTG, alternative allele is A, predicted anotation: frameshift_variant, transcript is BaRT2v18chr3HG123110.5\n",
      "\n",
      "SNP is at position 34751252, reference allele is AGATTG, alternative allele is A, predicted anotation: frameshift_variant, transcript is BaRT2v18chr3HG123110.6\n",
      "\n",
      "SNP is at position 34751252, reference allele is AGATTG, alternative allele is A, predicted anotation: frameshift_variant, transcript is BaRT2v18chr3HG123110.7\n",
      "\n",
      "SNP is at position 34751252, reference allele is AGATTG, alternative allele is A, predicted anotation: frameshift_variant, transcript is BaRT2v18chr3HG123110.12\n",
      "\n",
      "SNP is at position 34751252, reference allele is AGATTG, alternative allele is A, predicted anotation: frameshift_variant, transcript is BaRT2v18chr3HG123110.20\n",
      "\n",
      "SNP is at position 35133481, reference allele is AC, alternative allele is A, predicted anotation: frameshift_variant, transcript is BaRT2v18chr3HG123140.2\n",
      "\n",
      "SNP is at position 35133481, reference allele is AC, alternative allele is A, predicted anotation: frameshift_variant, transcript is BaRT2v18chr3HG123140.1\n",
      "\n"
     ]
    }
   ],
   "source": [
    "for position, infos in annotation_position.items():\n",
    "    for info in infos:\n",
    "        if info[2] in disruptive: #If annotation of SNP is a disruptive\n",
    "            print(f\"SNP is at position {position}, reference allele is {info[0]}, alternative allele is {info[1]}, predicted anotation: {info[2]}, transcript is {info[3]}\\n\")"
   ]
  },
  {
   "cell_type": "code",
   "execution_count": null,
   "metadata": {},
   "outputs": [],
   "source": []
  }
 ],
 "metadata": {
  "kernelspec": {
   "display_name": "Python 3",
   "language": "python",
   "name": "python3"
  },
  "language_info": {
   "codemirror_mode": {
    "name": "ipython",
    "version": 3
   },
   "file_extension": ".py",
   "mimetype": "text/x-python",
   "name": "python",
   "nbconvert_exporter": "python",
   "pygments_lexer": "ipython3",
   "version": "3.8.5"
  }
 },
 "nbformat": 4,
 "nbformat_minor": 4
}
